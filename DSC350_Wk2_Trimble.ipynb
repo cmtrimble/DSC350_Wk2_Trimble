{
 "cells": [
  {
   "metadata": {},
   "cell_type": "markdown",
   "source": [
    "Title: DSC350 Week 2 Exercise  \n",
    "Author: Armando Fandango  \n",
    "Date: 08 September 2024  \n",
    "Modified By: Caleb Trimble  \n",
    "Description: This program addresses arrays and different functions that can be used with an array as well as creating plots using matplotlib.  \n",
    "Codes and functions used in this program have been adapted from Python Data Analysis - Second Edition (Fandango, 2017)."
   ],
   "id": "c851fac518f19cc1"
  },
  {
   "cell_type": "code",
   "id": "initial_id",
   "metadata": {
    "collapsed": true,
    "ExecuteTime": {
     "end_time": "2024-09-08T20:46:58.842465Z",
     "start_time": "2024-09-08T20:46:58.838310Z"
    }
   },
   "source": [
    "# Question 1\n",
    "# Define the value of n\n",
    "n = 3\n",
    "# Create a vector that holds the squares of integers 0 to n\n",
    "a = [i**2 for i in range(n+1)]\n",
    "# Create a vector that holds the cubes of integers 0 to n\n",
    "b = [i**3 for i in range(n+1)]\n",
    "print(\"Vector a (squares):\", a)\n",
    "print(\"Vector b (cubes):\", b)\n",
    "print()\n",
    "import numpy as np\n",
    "def numpysum(n): # The function works properly, however since I defined n separately, (n) is not used.\n",
    "    n = 3\n",
    "    a = np.arange(n) ** 2\n",
    "    b = np.arange(n) ** 3\n",
    "    c = a+b\n",
    "\n",
    "    return c\n",
    "print(\"Vector a (squares) using NumPy:\", a)\n",
    "print(\"Vector b (cubes) using NumPy:\", b)\n"
   ],
   "outputs": [
    {
     "name": "stdout",
     "output_type": "stream",
     "text": [
      "Vector a (squares): [0, 1, 4, 9]\n",
      "Vector b (cubes): [0, 1, 8, 27]\n",
      "\n",
      "Vector a (squares) using NumPy: [0, 1, 4, 9]\n",
      "Vector b (cubes) using NumPy: [0, 1, 8, 27]\n"
     ]
    }
   ],
   "execution_count": 34
  },
  {
   "metadata": {
    "ExecuteTime": {
     "end_time": "2024-09-08T20:46:58.916030Z",
     "start_time": "2024-09-08T20:46:58.847454Z"
    }
   },
   "cell_type": "code",
   "source": [
    "# Question 2\n",
    "from sklearn.datasets import load_iris\n",
    "import matplotlib.pyplot as plt\n",
    "iris = load_iris()\n",
    "print(iris.DESCR) # Prints the description of the called-upon dataset\n",
    "data=iris.data\n",
    "plt.plot(data[:,0], data[:,1], \".\") \n",
    "plt.show()\n"
   ],
   "id": "268c899fa715dbb9",
   "outputs": [
    {
     "name": "stdout",
     "output_type": "stream",
     "text": [
      ".. _iris_dataset:\n",
      "\n",
      "Iris plants dataset\n",
      "--------------------\n",
      "\n",
      "**Data Set Characteristics:**\n",
      "\n",
      ":Number of Instances: 150 (50 in each of three classes)\n",
      ":Number of Attributes: 4 numeric, predictive attributes and the class\n",
      ":Attribute Information:\n",
      "    - sepal length in cm\n",
      "    - sepal width in cm\n",
      "    - petal length in cm\n",
      "    - petal width in cm\n",
      "    - class:\n",
      "            - Iris-Setosa\n",
      "            - Iris-Versicolour\n",
      "            - Iris-Virginica\n",
      "\n",
      ":Summary Statistics:\n",
      "\n",
      "============== ==== ==== ======= ===== ====================\n",
      "                Min  Max   Mean    SD   Class Correlation\n",
      "============== ==== ==== ======= ===== ====================\n",
      "sepal length:   4.3  7.9   5.84   0.83    0.7826\n",
      "sepal width:    2.0  4.4   3.05   0.43   -0.4194\n",
      "petal length:   1.0  6.9   3.76   1.76    0.9490  (high!)\n",
      "petal width:    0.1  2.5   1.20   0.76    0.9565  (high!)\n",
      "============== ==== ==== ======= ===== ====================\n",
      "\n",
      ":Missing Attribute Values: None\n",
      ":Class Distribution: 33.3% for each of 3 classes.\n",
      ":Creator: R.A. Fisher\n",
      ":Donor: Michael Marshall (MARSHALL%PLU@io.arc.nasa.gov)\n",
      ":Date: July, 1988\n",
      "\n",
      "The famous Iris database, first used by Sir R.A. Fisher. The dataset is taken\n",
      "from Fisher's paper. Note that it's the same as in R, but not as in the UCI\n",
      "Machine Learning Repository, which has two wrong data points.\n",
      "\n",
      "This is perhaps the best known database to be found in the\n",
      "pattern recognition literature.  Fisher's paper is a classic in the field and\n",
      "is referenced frequently to this day.  (See Duda & Hart, for example.)  The\n",
      "data set contains 3 classes of 50 instances each, where each class refers to a\n",
      "type of iris plant.  One class is linearly separable from the other 2; the\n",
      "latter are NOT linearly separable from each other.\n",
      "\n",
      "|details-start|\n",
      "**References**\n",
      "|details-split|\n",
      "\n",
      "- Fisher, R.A. \"The use of multiple measurements in taxonomic problems\"\n",
      "  Annual Eugenics, 7, Part II, 179-188 (1936); also in \"Contributions to\n",
      "  Mathematical Statistics\" (John Wiley, NY, 1950).\n",
      "- Duda, R.O., & Hart, P.E. (1973) Pattern Classification and Scene Analysis.\n",
      "  (Q327.D83) John Wiley & Sons.  ISBN 0-471-22361-1.  See page 218.\n",
      "- Dasarathy, B.V. (1980) \"Nosing Around the Neighborhood: A New System\n",
      "  Structure and Classification Rule for Recognition in Partially Exposed\n",
      "  Environments\".  IEEE Transactions on Pattern Analysis and Machine\n",
      "  Intelligence, Vol. PAMI-2, No. 1, 67-71.\n",
      "- Gates, G.W. (1972) \"The Reduced Nearest Neighbor Rule\".  IEEE Transactions\n",
      "  on Information Theory, May 1972, 431-433.\n",
      "- See also: 1988 MLC Proceedings, 54-64.  Cheeseman et al\"s AUTOCLASS II\n",
      "  conceptual clustering system finds 3 classes in the data.\n",
      "- Many, many more ...\n",
      "\n",
      "|details-end|\n",
      "\n"
     ]
    },
    {
     "data": {
      "text/plain": [
       "<Figure size 640x480 with 1 Axes>"
      ],
      "image/png": "[encoded data removed]"
     },
     "metadata": {},
     "output_type": "display_data"
    }
   ],
   "execution_count": 35
  },
  {
   "metadata": {
    "ExecuteTime": {
     "end_time": "2024-09-08T20:46:59.012658Z",
     "start_time": "2024-09-08T20:46:58.917029Z"
    }
   },
   "cell_type": "code",
   "source": [
    "# Question 3\n",
    "from sklearn.datasets import fetch_california_housing\n",
    "import matplotlib.pyplot as plt\n",
    "california_housing = fetch_california_housing(as_frame=True)\n",
    "print(california_housing.DESCR)\n",
    "print()\n",
    "data=california_housing.data\n",
    "plt.plot(data['AveRooms'], data['AveOccup'], \"+\") # Unable to define the columns like I did with iris dataset. Defined x and y by column name (3 and 5) instead of location. \n",
    "plt.show()\n"
   ],
   "id": "857041664bffda9c",
   "outputs": [
    {
     "name": "stdout",
     "output_type": "stream",
     "text": [
      ".. _california_housing_dataset:\n",
      "\n",
      "California Housing dataset\n",
      "--------------------------\n",
      "\n",
      "**Data Set Characteristics:**\n",
      "\n",
      ":Number of Instances: 20640\n",
      "\n",
      ":Number of Attributes: 8 numeric, predictive attributes and the target\n",
      "\n",
      ":Attribute Information:\n",
      "    - MedInc        median income in block group\n",
      "    - HouseAge      median house age in block group\n",
      "    - AveRooms      average number of rooms per household\n",
      "    - AveBedrms     average number of bedrooms per household\n",
      "    - Population    block group population\n",
      "    - AveOccup      average number of household members\n",
      "    - Latitude      block group latitude\n",
      "    - Longitude     block group longitude\n",
      "\n",
      ":Missing Attribute Values: None\n",
      "\n",
      "This dataset was obtained from the StatLib repository.\n",
      "https://www.dcc.fc.up.pt/~ltorgo/Regression/cal_housing.html\n",
      "\n",
      "The target variable is the median house value for California districts,\n",
      "expressed in hundreds of thousands of dollars ($100,000).\n",
      "\n",
      "This dataset was derived from the 1990 U.S. census, using one row per census\n",
      "block group. A block group is the smallest geographical unit for which the U.S.\n",
      "Census Bureau publishes sample data (a block group typically has a population\n",
      "of 600 to 3,000 people).\n",
      "\n",
      "A household is a group of people residing within a home. Since the average\n",
      "number of rooms and bedrooms in this dataset are provided per household, these\n",
      "columns may take surprisingly large values for block groups with few households\n",
      "and many empty houses, such as vacation resorts.\n",
      "\n",
      "It can be downloaded/loaded using the\n",
      ":func:`sklearn.datasets.fetch_california_housing` function.\n",
      "\n",
      ".. topic:: References\n",
      "\n",
      "    - Pace, R. Kelley and Ronald Barry, Sparse Spatial Autoregressions,\n",
      "      Statistics and Probability Letters, 33 (1997) 291-297\n",
      "\n",
      "\n"
     ]
    },
    {
     "data": {
      "text/plain": [
       "<Figure size 640x480 with 1 Axes>"
      ],
      "image/png": "[encoded data removed]"
     },
     "metadata": {},
     "output_type": "display_data"
    }
   ],
   "execution_count": 36
  },
  {
   "metadata": {
    "ExecuteTime": {
     "end_time": "2024-09-08T20:46:59.016131Z",
     "start_time": "2024-09-08T20:46:59.012658Z"
    }
   },
   "cell_type": "code",
   "source": [
    "# Question 4\n",
    "m = np.array([np.arange(2), np.arange(2)]) # Stacks two arrays generated with np.arange(2) to create a 2x2 array.\n",
    "print(\"The Multi-dimensional Array Created is:\\n \", m)"
   ],
   "id": "1748c352a6dd1da1",
   "outputs": [
    {
     "name": "stdout",
     "output_type": "stream",
     "text": [
      "The Multi-dimensional Array Created is:\n",
      "  [[0 1]\n",
      " [0 1]]\n"
     ]
    }
   ],
   "execution_count": 37
  },
  {
   "metadata": {
    "ExecuteTime": {
     "end_time": "2024-09-08T20:46:59.022594Z",
     "start_time": "2024-09-08T20:46:59.017131Z"
    }
   },
   "cell_type": "code",
   "source": [
    "# Question 5\n",
    "spa = np.arange(7, dtype=np.float32) # Creates a single precision float array by defining the number of elements to be used, and defining the datatype as float32.\n",
    "print(\"Single Precision Float Array:\\n\", spa)\n",
    "\n",
    "# Question 6\n",
    "cna = np.arange(15, dtype='D') # Creates a complex number array by defining the number of elements and the data type (complex64 or 'D').\n",
    "print(\"\\nComplex Number Array:\\n \", cna)\n"
   ],
   "id": "6a8dbb7894adb498",
   "outputs": [
    {
     "name": "stdout",
     "output_type": "stream",
     "text": [
      "Single Precision Float Array:\n",
      " [0. 1. 2. 3. 4. 5. 6.]\n",
      "\n",
      "Complex Number Array:\n",
      "  [ 0.+0.j  1.+0.j  2.+0.j  3.+0.j  4.+0.j  5.+0.j  6.+0.j  7.+0.j  8.+0.j\n",
      "  9.+0.j 10.+0.j 11.+0.j 12.+0.j 13.+0.j 14.+0.j]\n"
     ]
    }
   ],
   "execution_count": 38
  },
  {
   "metadata": {
    "ExecuteTime": {
     "end_time": "2024-09-08T20:46:59.027818Z",
     "start_time": "2024-09-08T20:46:59.023594Z"
    }
   },
   "cell_type": "code",
   "source": [
    "# Question 7\n",
    "da = np.arange(9) # Defines the array, (9) defines the elements needed (0-8)\n",
    "part_array = da[3:7] # Defines the part of the array we want to select (3-7)\n",
    "inc_array = da[0:8:2] # Incremental array defines the starting location (0), where to end (8), and the increment we want to choose (2)\n",
    "rev_array = da[::-1] \n",
    "print(\"The Defined Array is:\\n\", da)\n",
    "print(\"The Selected Part of the Array is:\\n\", part_array)\n",
    "print(\"The Incremental Array from 0 to 7 is: \\n\", inc_array)\n",
    "print(\"The Reversed Array is:\\n\", rev_array)"
   ],
   "id": "5e51fd9a9fa827c",
   "outputs": [
    {
     "name": "stdout",
     "output_type": "stream",
     "text": [
      "The Defined Array is:\n",
      " [0 1 2 3 4 5 6 7 8]\n",
      "The Selected Part of the Array is:\n",
      " [3 4 5 6]\n",
      "The Incremental Array from 0 to 7 is: \n",
      " [0 2 4 6]\n",
      "The Reversed Array is:\n",
      " [8 7 6 5 4 3 2 1 0]\n"
     ]
    }
   ],
   "execution_count": 39
  },
  {
   "metadata": {
    "ExecuteTime": {
     "end_time": "2024-09-08T20:46:59.033793Z",
     "start_time": "2024-09-08T20:46:59.027818Z"
    }
   },
   "cell_type": "code",
   "source": [
    "# Question 8\n",
    "b = np.arange(24) .reshape(2,3,4) # Defines the number of elements (24), the number of sub-arrays (2), rows (3), and columns (4)\n",
    "print(\"Original Array: \\n\", b)\n",
    "# Ravel() and flatten() perform the same function - modify the 3-dimensional array to a 1-dimensional array.\n",
    "b.ravel() \n",
    "print(\"\\nRavel of array: \\n\", b.ravel())\n",
    "b.flatten() \n",
    "print(\"\\nFlattened Array:\\n\", b.flatten())\n",
    "b.shape = (6,4) # Defines the shape that we want (6x4) for the array.\n",
    "print(\"\\nArray Reshaped with Tuple:\\n\", b)\n",
    "b.transpose() # Transposes the array so that the axes are rearranged. This function collapsed the sub-array dimension, creating one 2D array with all the elements.\n",
    "print(\"\\nTransposed Array:\\n\", b.transpose())\n",
    "b.resize((2,12)) # Defines new dimensions for the array (2 rows, 12 columns)\n",
    "print(\"\\nArray Resized: \\n\", b)"
   ],
   "id": "55479443650be207",
   "outputs": [
    {
     "name": "stdout",
     "output_type": "stream",
     "text": [
      "Original Array: \n",
      " [[[ 0  1  2  3]\n",
      "  [ 4  5  6  7]\n",
      "  [ 8  9 10 11]]\n",
      "\n",
      " [[12 13 14 15]\n",
      "  [16 17 18 19]\n",
      "  [20 21 22 23]]]\n",
      "\n",
      "Ravel of array: \n",
      " [ 0  1  2  3  4  5  6  7  8  9 10 11 12 13 14 15 16 17 18 19 20 21 22 23]\n",
      "\n",
      "Flattened Array:\n",
      " [ 0  1  2  3  4  5  6  7  8  9 10 11 12 13 14 15 16 17 18 19 20 21 22 23]\n",
      "\n",
      "Array Reshaped with Tuple:\n",
      " [[ 0  1  2  3]\n",
      " [ 4  5  6  7]\n",
      " [ 8  9 10 11]\n",
      " [12 13 14 15]\n",
      " [16 17 18 19]\n",
      " [20 21 22 23]]\n",
      "\n",
      "Transposed Array:\n",
      " [[ 0  4  8 12 16 20]\n",
      " [ 1  5  9 13 17 21]\n",
      " [ 2  6 10 14 18 22]\n",
      " [ 3  7 11 15 19 23]]\n",
      "\n",
      "Array Resized: \n",
      " [[ 0  1  2  3  4  5  6  7  8  9 10 11]\n",
      " [12 13 14 15 16 17 18 19 20 21 22 23]]\n"
     ]
    }
   ],
   "execution_count": 40
  },
  {
   "metadata": {
    "ExecuteTime": {
     "end_time": "2024-09-08T20:46:59.049097Z",
     "start_time": "2024-09-08T20:46:59.033793Z"
    }
   },
   "cell_type": "code",
   "source": [
    "# Question 9\n",
    "b = np.arange(24) .reshape(2,12)\n",
    "print(\"Original Array: \", b)\n",
    "b.ndim # Calls for the number of dimensions in the array.\n",
    "print(\"Number of Dimensions is: \", b.ndim)\n",
    "b.size # Finds the total number of elements in the array.\n",
    "print(\"The Array Size is: \", b.size)\n",
    "b.itemsize # Finds the number of bytes per element in the array.\n",
    "print(\"The Byte Count For Each Element is: \", b.itemsize)\n",
    "b.nbytes # Finds the full count of bytes in the array.\n",
    "print(\"The Total Count of Bytes is: \", b.nbytes)"
   ],
   "id": "1c4402ef61e9dd7e",
   "outputs": [
    {
     "name": "stdout",
     "output_type": "stream",
     "text": [
      "Original Array:  [[ 0  1  2  3  4  5  6  7  8  9 10 11]\n",
      " [12 13 14 15 16 17 18 19 20 21 22 23]]\n",
      "Number of Dimensions is:  2\n",
      "The Array Size is:  24\n",
      "The Byte Count For Each Element is:  8\n",
      "The Total Count of Bytes is:  192\n"
     ]
    }
   ],
   "execution_count": 41
  },
  {
   "metadata": {
    "ExecuteTime": {
     "end_time": "2024-09-08T20:46:59.054126Z",
     "start_time": "2024-09-08T20:46:59.050097Z"
    }
   },
   "cell_type": "code",
   "source": [
    "# Question 10\n",
    "b = np.array([0,1,2,3,4,5,6,7,8,9,10])\n",
    "print(b)\n",
    "b.tolist() # Converts the array to a list.\n",
    "print(\"Array converted to list: \", b.tolist()) "
   ],
   "id": "74f1af87efc9555c",
   "outputs": [
    {
     "name": "stdout",
     "output_type": "stream",
     "text": [
      "[ 0  1  2  3  4  5  6  7  8  9 10]\n",
      "Array converted to list:  [0, 1, 2, 3, 4, 5, 6, 7, 8, 9, 10]\n"
     ]
    }
   ],
   "execution_count": 42
  },
  {
   "metadata": {
    "ExecuteTime": {
     "end_time": "2024-09-08T20:46:59.057071Z",
     "start_time": "2024-09-08T20:46:59.055126Z"
    }
   },
   "cell_type": "code",
   "source": "",
   "id": "40ab2b5b55f33130",
   "outputs": [],
   "execution_count": 42
  }
 ],
 "metadata": {
  "kernelspec": {
   "display_name": "Python 3",
   "language": "python",
   "name": "python3"
  },
  "language_info": {
   "codemirror_mode": {
    "name": "ipython",
    "version": 2
   },
   "file_extension": ".py",
   "mimetype": "text/x-python",
   "name": "python",
   "nbconvert_exporter": "python",
   "pygments_lexer": "ipython2",
   "version": "2.7.6"
  }
 },
 "nbformat": 4,
 "nbformat_minor": 5
}
